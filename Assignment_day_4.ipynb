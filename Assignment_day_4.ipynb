{
 "cells": [
  {
   "cell_type": "code",
   "execution_count": 9,
   "metadata": {},
   "outputs": [
    {
     "name": "stdout",
     "output_type": "stream",
     "text": [
      "The first armstrong number is- 1741725\n"
     ]
    }
   ],
   "source": [
    "for i in range(1042000,702648265+1):\n",
    "    order=len(str(i))\n",
    "    n=i\n",
    "    s=0\n",
    "    while(n>0):\n",
    "        d=n%10\n",
    "        s=s+d**order\n",
    "        n=n//10\n",
    "    if(s==i):\n",
    "        print(\"The first armstrong number is-\",i)\n",
    "        break"
   ]
  },
  {
   "cell_type": "code",
   "execution_count": null,
   "metadata": {},
   "outputs": [],
   "source": []
  }
 ],
 "metadata": {
  "kernelspec": {
   "display_name": "Python 3",
   "language": "python",
   "name": "python3"
  },
  "language_info": {
   "codemirror_mode": {
    "name": "ipython",
    "version": 3
   },
   "file_extension": ".py",
   "mimetype": "text/x-python",
   "name": "python",
   "nbconvert_exporter": "python",
   "pygments_lexer": "ipython3",
   "version": "3.7.6"
  }
 },
 "nbformat": 4,
 "nbformat_minor": 4
}
